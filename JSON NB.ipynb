{
 "cells": [
  {
   "cell_type": "code",
   "execution_count": 0,
   "metadata": {
    "application/vnd.databricks.v1+cell": {
     "cellMetadata": {
      "byteLimit": 2048000,
      "rowLimit": 10000
     },
     "inputWidgets": {},
     "nuid": "092e06c7-7864-45da-a00f-467a5b6b65f6",
     "showTitle": false,
     "title": ""
    }
   },
   "outputs": [
    {
     "output_type": "display_data",
     "data": {
      "text/html": [
       "<style scoped>\n",
       "  .ansiout {\n",
       "    display: block;\n",
       "    unicode-bidi: embed;\n",
       "    white-space: pre-wrap;\n",
       "    word-wrap: break-word;\n",
       "    word-break: break-all;\n",
       "    font-family: \"Source Code Pro\", \"Menlo\", monospace;;\n",
       "    font-size: 13px;\n",
       "    color: #555;\n",
       "    margin-left: 4px;\n",
       "    line-height: 19px;\n",
       "  }\n",
       "</style>\n",
       "<div class=\"ansiout\"></div>"
      ]
     },
     "metadata": {
      "application/vnd.databricks.v1+output": {
       "addedWidgets": {},
       "arguments": {},
       "data": "<div class=\"ansiout\"></div>",
       "datasetInfos": [],
       "metadata": {},
       "removedWidgets": [],
       "type": "html"
      }
     },
     "output_type": "display_data"
    }
   ],
   "source": [
    "# Importing all the libraries used\n",
    "import os\n",
    "import json\n",
    "from pyspark.sql.types import *\n",
    "from pyspark.sql.functions import *"
   ]
  },
  {
   "cell_type": "code",
   "execution_count": 0,
   "metadata": {
    "application/vnd.databricks.v1+cell": {
     "cellMetadata": {
      "byteLimit": 2048000,
      "rowLimit": 10000
     },
     "inputWidgets": {},
     "nuid": "6c68a744-ba03-4df5-ba64-4b742b54894c",
     "showTitle": false,
     "title": ""
    }
   },
   "outputs": [
    {
     "output_type": "display_data",
     "data": {
      "text/html": [
       "<style scoped>\n",
       "  .ansiout {\n",
       "    display: block;\n",
       "    unicode-bidi: embed;\n",
       "    white-space: pre-wrap;\n",
       "    word-wrap: break-word;\n",
       "    word-break: break-all;\n",
       "    font-family: \"Source Code Pro\", \"Menlo\", monospace;;\n",
       "    font-size: 13px;\n",
       "    color: #555;\n",
       "    margin-left: 4px;\n",
       "    line-height: 19px;\n",
       "  }\n",
       "</style>\n",
       "<div class=\"ansiout\"></div>"
      ]
     },
     "metadata": {
      "application/vnd.databricks.v1+output": {
       "addedWidgets": {},
       "arguments": {},
       "data": "<div class=\"ansiout\"></div>",
       "datasetInfos": [],
       "metadata": {},
       "removedWidgets": [],
       "type": "html"
      }
     },
     "output_type": "display_data"
    }
   ],
   "source": [
    "# Specify the path to your JSON file on ADLS\n",
    "\n",
    "json_file_path = \"dbfs:/mnt/datalake/RawZone/TestJson/sample1_45269912_req - easy.json\""
   ]
  },
  {
   "cell_type": "code",
   "execution_count": 0,
   "metadata": {
    "application/vnd.databricks.v1+cell": {
     "cellMetadata": {
      "byteLimit": 2048000,
      "rowLimit": 10000
     },
     "inputWidgets": {},
     "nuid": "617083a0-3d54-4dc4-afda-9f6fcf056868",
     "showTitle": false,
     "title": ""
    }
   },
   "outputs": [
    {
     "output_type": "display_data",
     "data": {
      "text/html": [
       "<style scoped>\n",
       "  .ansiout {\n",
       "    display: block;\n",
       "    unicode-bidi: embed;\n",
       "    white-space: pre-wrap;\n",
       "    word-wrap: break-word;\n",
       "    word-break: break-all;\n",
       "    font-family: \"Source Code Pro\", \"Menlo\", monospace;;\n",
       "    font-size: 13px;\n",
       "    color: #555;\n",
       "    margin-left: 4px;\n",
       "    line-height: 19px;\n",
       "  }\n",
       "</style>\n",
       "<div class=\"ansiout\"></div>"
      ]
     },
     "metadata": {
      "application/vnd.databricks.v1+output": {
       "addedWidgets": {},
       "arguments": {},
       "data": "<div class=\"ansiout\"></div>",
       "datasetInfos": [],
       "metadata": {},
       "removedWidgets": [],
       "type": "html"
      }
     },
     "output_type": "display_data"
    }
   ],
   "source": [
    "# Read JSON data using dbutils.fs\n",
    "\n",
    "# json_data = dbutils.fs.head(json_file_path)\n",
    "\n",
    "# print(json_data)"
   ]
  },
  {
   "cell_type": "code",
   "execution_count": 0,
   "metadata": {
    "application/vnd.databricks.v1+cell": {
     "cellMetadata": {
      "byteLimit": 2048000,
      "rowLimit": 10000
     },
     "inputWidgets": {},
     "nuid": "aa476470-ae6b-4a4b-a2f3-1d366078f324",
     "showTitle": false,
     "title": ""
    }
   },
   "outputs": [
    {
     "output_type": "display_data",
     "data": {
      "text/html": [
       "<style scoped>\n",
       "  .ansiout {\n",
       "    display: block;\n",
       "    unicode-bidi: embed;\n",
       "    white-space: pre-wrap;\n",
       "    word-wrap: break-word;\n",
       "    word-break: break-all;\n",
       "    font-family: \"Source Code Pro\", \"Menlo\", monospace;;\n",
       "    font-size: 13px;\n",
       "    color: #555;\n",
       "    margin-left: 4px;\n",
       "    line-height: 19px;\n",
       "  }\n",
       "</style>\n",
       "<div class=\"ansiout\"></div>"
      ]
     },
     "metadata": {
      "application/vnd.databricks.v1+output": {
       "addedWidgets": {},
       "arguments": {},
       "data": "<div class=\"ansiout\"></div>",
       "datasetInfos": [],
       "metadata": {},
       "removedWidgets": [],
       "type": "html"
      }
     },
     "output_type": "display_data"
    }
   ],
   "source": [
    "df = spark.read.format(\"json\").option(\"multiline\",\"true\").load(json_file_path)"
   ]
  },
  {
   "cell_type": "code",
   "execution_count": 0,
   "metadata": {
    "application/vnd.databricks.v1+cell": {
     "cellMetadata": {
      "byteLimit": 2048000,
      "rowLimit": 10000
     },
     "inputWidgets": {},
     "nuid": "ad0da660-d062-4b81-a30b-cdd2624fa24e",
     "showTitle": false,
     "title": ""
    }
   },
   "outputs": [
    {
     "output_type": "display_data",
     "data": {
      "text/html": [
       "<style scoped>\n",
       "  .ansiout {\n",
       "    display: block;\n",
       "    unicode-bidi: embed;\n",
       "    white-space: pre-wrap;\n",
       "    word-wrap: break-word;\n",
       "    word-break: break-all;\n",
       "    font-family: \"Source Code Pro\", \"Menlo\", monospace;;\n",
       "    font-size: 13px;\n",
       "    color: #555;\n",
       "    margin-left: 4px;\n",
       "    line-height: 19px;\n",
       "  }\n",
       "</style>\n",
       "<div class=\"ansiout\"></div>"
      ]
     },
     "metadata": {
      "application/vnd.databricks.v1+output": {
       "addedWidgets": {},
       "arguments": {},
       "data": "<div class=\"ansiout\"></div>",
       "datasetInfos": [],
       "metadata": {},
       "removedWidgets": [],
       "type": "html"
      }
     },
     "output_type": "display_data"
    }
   ],
   "source": [
    "# df_exploded = df.select(df[\"Policy.BrokerID\"], \n",
    "#                         explode(\"Policy.Vehicle\"),\n",
    "#                         explode(\"Coverage_Vehicle\"),\n",
    "#                         (explode(\"anotherList\")))"
   ]
  },
  {
   "cell_type": "code",
   "execution_count": 0,
   "metadata": {
    "application/vnd.databricks.v1+cell": {
     "cellMetadata": {
      "byteLimit": 2048000,
      "rowLimit": 10000
     },
     "inputWidgets": {},
     "nuid": "9361c574-7ce0-404d-9598-589fdda61b21",
     "showTitle": false,
     "title": ""
    }
   },
   "outputs": [
    {
     "output_type": "display_data",
     "data": {
      "text/html": [
       "<style scoped>\n",
       "  .ansiout {\n",
       "    display: block;\n",
       "    unicode-bidi: embed;\n",
       "    white-space: pre-wrap;\n",
       "    word-wrap: break-word;\n",
       "    word-break: break-all;\n",
       "    font-family: \"Source Code Pro\", \"Menlo\", monospace;;\n",
       "    font-size: 13px;\n",
       "    color: #555;\n",
       "    margin-left: 4px;\n",
       "    line-height: 19px;\n",
       "  }\n",
       "</style>\n",
       "<div class=\"ansiout\"></div>"
      ]
     },
     "metadata": {
      "application/vnd.databricks.v1+output": {
       "addedWidgets": {},
       "arguments": {},
       "data": "<div class=\"ansiout\"></div>",
       "datasetInfos": [],
       "metadata": {},
       "removedWidgets": [],
       "type": "html"
      }
     },
     "output_type": "display_data"
    }
   ],
   "source": [
    "# explodedDF = df.withColumn(\"Vehicle\",explode('Policy.Vehicle'))\\\n",
    "#                .withColumn(\"Coverage_Vehicle\",explode('Policy.Vehicle.Coverage_Vehicle'))\\\n",
    "#                .withColumn(\"anotherList\",explode('Policy.Vehicle.Coverage_Vehicle.anotherList'))"
   ]
  },
  {
   "cell_type": "code",
   "execution_count": 0,
   "metadata": {
    "application/vnd.databricks.v1+cell": {
     "cellMetadata": {
      "byteLimit": 2048000,
      "rowLimit": 10000
     },
     "inputWidgets": {},
     "nuid": "0de35544-c533-43ef-a77e-9986f26e2e62",
     "showTitle": false,
     "title": ""
    }
   },
   "outputs": [
    {
     "output_type": "display_data",
     "data": {
      "text/html": [
       "<style scoped>\n",
       "  .ansiout {\n",
       "    display: block;\n",
       "    unicode-bidi: embed;\n",
       "    white-space: pre-wrap;\n",
       "    word-wrap: break-word;\n",
       "    word-break: break-all;\n",
       "    font-family: \"Source Code Pro\", \"Menlo\", monospace;;\n",
       "    font-size: 13px;\n",
       "    color: #555;\n",
       "    margin-left: 4px;\n",
       "    line-height: 19px;\n",
       "  }\n",
       "</style>\n",
       "<div class=\"ansiout\"></div>"
      ]
     },
     "metadata": {
      "application/vnd.databricks.v1+output": {
       "addedWidgets": {},
       "arguments": {},
       "data": "<div class=\"ansiout\"></div>",
       "datasetInfos": [],
       "metadata": {},
       "removedWidgets": [],
       "type": "html"
      }
     },
     "output_type": "display_data"
    }
   ],
   "source": [
    "# explodedDF = explodedDF.select(col(\"col.*\"))"
   ]
  },
  {
   "cell_type": "code",
   "execution_count": 0,
   "metadata": {
    "application/vnd.databricks.v1+cell": {
     "cellMetadata": {
      "byteLimit": 2048000,
      "rowLimit": 10000
     },
     "inputWidgets": {},
     "nuid": "0cb52ce5-1316-4ae9-83f5-bb58b6ef7bea",
     "showTitle": false,
     "title": ""
    }
   },
   "outputs": [
    {
     "output_type": "display_data",
     "data": {
      "text/html": [
       "<style scoped>\n",
       "  .ansiout {\n",
       "    display: block;\n",
       "    unicode-bidi: embed;\n",
       "    white-space: pre-wrap;\n",
       "    word-wrap: break-word;\n",
       "    word-break: break-all;\n",
       "    font-family: \"Source Code Pro\", \"Menlo\", monospace;;\n",
       "    font-size: 13px;\n",
       "    color: #555;\n",
       "    margin-left: 4px;\n",
       "    line-height: 19px;\n",
       "  }\n",
       "</style>\n",
       "<div class=\"ansiout\"></div>"
      ]
     },
     "metadata": {
      "application/vnd.databricks.v1+output": {
       "addedWidgets": {},
       "arguments": {},
       "data": "<div class=\"ansiout\"></div>",
       "datasetInfos": [],
       "metadata": {},
       "removedWidgets": [],
       "type": "html"
      }
     },
     "output_type": "display_data"
    }
   ],
   "source": [
    "df1 = df.select(\"Policy.BrokerID\",\n",
    "           \"Policy.DriftedNode.DriftedNodeCol1\",\n",
    "           \"Policy.DriftedNode.DriftedNodeCol2\",\n",
    "           \"Policy.DriftedNode.DriftedNodeCol3\",\n",
    "           explode(\"Policy.Vehicle\").alias(\"Vehicle\"),\n",
    "           \"Policy.in_billing_payplan_selected\")"
   ]
  },
  {
   "cell_type": "code",
   "execution_count": 0,
   "metadata": {
    "application/vnd.databricks.v1+cell": {
     "cellMetadata": {
      "byteLimit": 2048000,
      "rowLimit": 10000
     },
     "inputWidgets": {},
     "nuid": "1bb04358-1d45-463c-9882-a29c4eda158e",
     "showTitle": false,
     "title": ""
    }
   },
   "outputs": [
    {
     "output_type": "display_data",
     "data": {
      "text/html": [
       "<style scoped>\n",
       "  .table-result-container {\n",
       "    max-height: 300px;\n",
       "    overflow: auto;\n",
       "  }\n",
       "  table, th, td {\n",
       "    border: 1px solid black;\n",
       "    border-collapse: collapse;\n",
       "  }\n",
       "  th, td {\n",
       "    padding: 5px;\n",
       "  }\n",
       "  th {\n",
       "    text-align: left;\n",
       "  }\n",
       "</style><div class='table-result-container'><table class='table-result'><thead style='background-color: white'><tr><th>BrokerID</th><th>DriftedNodeCol1</th><th>DriftedNodeCol2</th><th>DriftedNodeCol3</th><th>Vehicle</th><th>in_billing_payplan_selected</th></tr></thead><tbody><tr><td>45269912</td><td>1</td><td>2</td><td>3</td><td>List(45269912, 45269912_1, List(List(45269912_1, drift1, List(List(1, 2), List(3, 4)), null, null, null, EIPACustomEquipmentCov_Ext, null), List(45269912_1, null, List(List(7, 8), List(9, 10)), null, null, null, EIPACustomEquipmentCov_Ext, EIPAExcessCustomEquipmentDescription_Ext), List(45269912_1, null, null, EIPAGlassCov_Ext, EIPAGlassDeductibl_Ext, 0_0000, null, null)), BASE_RATE:294 X BASE_RELATIVITY:0_877 X PLAN_AHEAD:0_88 X ILF_DED:1_83 X TIER:0_693 X ANTI_LOCK_BRAKES:0_95 X RAPA_SYMBOLS:0_83849 X HH_COMP:0_85 X CLASS:0_917 X DRIVER_HISTORY:1_52 X MULTI_POLICY:0_95 X SAFE_DRIVER:0_99 X PAYPLAN:0_95 = MODEL_PREM (no exp fees):243 X RSF:1_067 = TOTAL_PREMIUM:259, null, null, null)</td><td>paid_in_full</td></tr><tr><td>45269912</td><td>1</td><td>2</td><td>3</td><td>List(45269912, 45269912_2, List(List(45269912_2, null, null, EIPACustomEquipmentCov_Ext, EIPAExcessCustomEquipmentBase_Ext, 1500, null, null), List(45269912_2, null, null, EIPACustomEquipmentCov_Ext, EIPAExcessCustomEquipmentAmount_Ext, null, null, null)), BASE_RATE:294 X BASE_RELATIVITY:0_877 X PLAN_AHEAD:0_88 X ILF_DED:1_83 X TIER:0_693 X ANTI_LOCK_BRAKES:0_95 X RAPA_SYMBOLS:0_813906 X HH_COMP:0_85 X CLASS:0_893 X NEW_CAR:0_97 X MULTI_POLICY:0_95 X SAFE_DRIVER:0_99 X PAYPLAN:0_95 = MODEL_PREM (no exp fees):146 X RSF:1_067 = TOTAL_PREMIUM:156, BASE_RATE:294 X BASE_RELATIVITY:0_913 X PLAN_AHEAD:0_88 X ILF_DED:0_71 X TIER:0_78 X GLASS:1_28 X ANTI_THEFT:0_85 X RAPA_SYMBOLS:1_42136757 X CLASS:1_088 X NEW_CAR:0_97 X MULTI_POLICY:0_95 X SAFE_DRIVER:0_99 X PAYPLAN:0_95 = MODEL_PREM (no exp fees):191 X RSF:1_067 = TOTAL_PREMIUM:204, Y, 85254-5838)</td><td>paid_in_full</td></tr></tbody></table></div>"
      ]
     },
     "metadata": {
      "application/vnd.databricks.v1+output": {
       "addedWidgets": {},
       "aggData": [],
       "aggError": "",
       "aggOverflow": false,
       "aggSchema": [],
       "aggSeriesLimitReached": false,
       "aggType": "",
       "arguments": {},
       "columnCustomDisplayInfos": {},
       "data": [
        [
         "45269912",
         "1",
         "2",
         "3",
         [
          "45269912",
          "45269912_1",
          [
           [
            "45269912_1",
            "drift1",
            [
             [
              1,
              2
             ],
             [
              3,
              4
             ]
            ],
            null,
            null,
            null,
            "EIPACustomEquipmentCov_Ext",
            null
           ],
           [
            "45269912_1",
            null,
            [
             [
              7,
              8
             ],
             [
              9,
              10
             ]
            ],
            null,
            null,
            null,
            "EIPACustomEquipmentCov_Ext",
            "EIPAExcessCustomEquipmentDescription_Ext"
           ],
           [
            "45269912_1",
            null,
            null,
            "EIPAGlassCov_Ext",
            "EIPAGlassDeductibl_Ext",
            "0_0000",
            null,
            null
           ]
          ],
          "BASE_RATE:294 X BASE_RELATIVITY:0_877 X PLAN_AHEAD:0_88 X ILF_DED:1_83 X TIER:0_693 X ANTI_LOCK_BRAKES:0_95 X RAPA_SYMBOLS:0_83849 X HH_COMP:0_85 X CLASS:0_917 X DRIVER_HISTORY:1_52 X MULTI_POLICY:0_95 X SAFE_DRIVER:0_99 X PAYPLAN:0_95 = MODEL_PREM (no exp fees):243 X RSF:1_067 = TOTAL_PREMIUM:259",
          null,
          null,
          null
         ],
         "paid_in_full"
        ],
        [
         "45269912",
         "1",
         "2",
         "3",
         [
          "45269912",
          "45269912_2",
          [
           [
            "45269912_2",
            null,
            null,
            "EIPACustomEquipmentCov_Ext",
            "EIPAExcessCustomEquipmentBase_Ext",
            "1500",
            null,
            null
           ],
           [
            "45269912_2",
            null,
            null,
            "EIPACustomEquipmentCov_Ext",
            "EIPAExcessCustomEquipmentAmount_Ext",
            null,
            null,
            null
           ]
          ],
          "BASE_RATE:294 X BASE_RELATIVITY:0_877 X PLAN_AHEAD:0_88 X ILF_DED:1_83 X TIER:0_693 X ANTI_LOCK_BRAKES:0_95 X RAPA_SYMBOLS:0_813906 X HH_COMP:0_85 X CLASS:0_893 X NEW_CAR:0_97 X MULTI_POLICY:0_95 X SAFE_DRIVER:0_99 X PAYPLAN:0_95 = MODEL_PREM (no exp fees):146 X RSF:1_067 = TOTAL_PREMIUM:156",
          "BASE_RATE:294 X BASE_RELATIVITY:0_913 X PLAN_AHEAD:0_88 X ILF_DED:0_71 X TIER:0_78 X GLASS:1_28 X ANTI_THEFT:0_85 X RAPA_SYMBOLS:1_42136757 X CLASS:1_088 X NEW_CAR:0_97 X MULTI_POLICY:0_95 X SAFE_DRIVER:0_99 X PAYPLAN:0_95 = MODEL_PREM (no exp fees):191 X RSF:1_067 = TOTAL_PREMIUM:204",
          "Y",
          "85254-5838"
         ],
         "paid_in_full"
        ]
       ],
       "datasetInfos": [],
       "dbfsResultPath": null,
       "isJsonSchema": true,
       "metadata": {},
       "overflow": false,
       "plotOptions": {
        "customPlotOptions": {},
        "displayType": "table",
        "pivotAggregation": null,
        "pivotColumns": null,
        "xColumns": null,
        "yColumns": null
       },
       "removedWidgets": [],
       "schema": [
        {
         "metadata": "{}",
         "name": "BrokerID",
         "type": "\"string\""
        },
        {
         "metadata": "{}",
         "name": "DriftedNodeCol1",
         "type": "\"string\""
        },
        {
         "metadata": "{}",
         "name": "DriftedNodeCol2",
         "type": "\"string\""
        },
        {
         "metadata": "{}",
         "name": "DriftedNodeCol3",
         "type": "\"string\""
        },
        {
         "metadata": "{}",
         "name": "Vehicle",
         "type": "{\"type\":\"struct\",\"fields\":[{\"name\":\"BrokerID from left table\",\"type\":\"string\",\"nullable\":true,\"metadata\":{}},{\"name\":\"BrokerID_VehNum\",\"type\":\"string\",\"nullable\":true,\"metadata\":{}},{\"name\":\"Coverage_Vehicle\",\"type\":{\"type\":\"array\",\"elementType\":{\"type\":\"struct\",\"fields\":[{\"name\":\"BrokerID_VehNum\",\"type\":\"string\",\"nullable\":true,\"metadata\":{}},{\"name\":\"DriftedCovTest1\",\"type\":\"string\",\"nullable\":true,\"metadata\":{}},{\"name\":\"anotherList\",\"type\":{\"type\":\"array\",\"elementType\":{\"type\":\"struct\",\"fields\":[{\"name\":\"f1\",\"type\":\"long\",\"nullable\":true,\"metadata\":{}},{\"name\":\"f2\",\"type\":\"long\",\"nullable\":true,\"metadata\":{}}]},\"containsNull\":true},\"nullable\":true,\"metadata\":{}},{\"name\":\"in_coverage_vehicle_cov_code\",\"type\":\"string\",\"nullable\":true,\"metadata\":{}},{\"name\":\"in_coverage_vehicle_term_code\",\"type\":\"string\",\"nullable\":true,\"metadata\":{}},{\"name\":\"in_coverage_vehicle_term_value\",\"type\":\"string\",\"nullable\":true,\"metadata\":{}},{\"name\":\"in_coverage_vehiclecov_code\",\"type\":\"string\",\"nullable\":true,\"metadata\":{}},{\"name\":\"in_coverage_vehicleterm_code\",\"type\":\"string\",\"nullable\":true,\"metadata\":{}}]},\"containsNull\":true},\"nullable\":true,\"metadata\":{}},{\"name\":\"drc_out_rating_vehicle_bi_calculation\",\"type\":\"string\",\"nullable\":true,\"metadata\":{}},{\"name\":\"drc_out_rating_vehicle_comp_calculation\",\"type\":\"string\",\"nullable\":true,\"metadata\":{}},{\"name\":\"in_vehicle_antilock\",\"type\":\"string\",\"nullable\":true,\"metadata\":{}},{\"name\":\"in_vehicle_garage_zip_code_dnu\",\"type\":\"string\",\"nullable\":true,\"metadata\":{}}]}"
        },
        {
         "metadata": "{}",
         "name": "in_billing_payplan_selected",
         "type": "\"string\""
        }
       ],
       "type": "table"
      }
     },
     "output_type": "display_data"
    }
   ],
   "source": [
    "df1.display()"
   ]
  },
  {
   "cell_type": "code",
   "execution_count": 0,
   "metadata": {
    "application/vnd.databricks.v1+cell": {
     "cellMetadata": {
      "byteLimit": 2048000,
      "rowLimit": 10000
     },
     "inputWidgets": {},
     "nuid": "086a4364-a729-4772-9717-cd9947a8a8a2",
     "showTitle": false,
     "title": ""
    }
   },
   "outputs": [
    {
     "output_type": "display_data",
     "data": {
      "text/html": [
       "<style scoped>\n",
       "  .ansiout {\n",
       "    display: block;\n",
       "    unicode-bidi: embed;\n",
       "    white-space: pre-wrap;\n",
       "    word-wrap: break-word;\n",
       "    word-break: break-all;\n",
       "    font-family: \"Source Code Pro\", \"Menlo\", monospace;;\n",
       "    font-size: 13px;\n",
       "    color: #555;\n",
       "    margin-left: 4px;\n",
       "    line-height: 19px;\n",
       "  }\n",
       "</style>\n",
       "<div class=\"ansiout\"></div>"
      ]
     },
     "metadata": {
      "application/vnd.databricks.v1+output": {
       "addedWidgets": {},
       "arguments": {},
       "data": "<div class=\"ansiout\"></div>",
       "datasetInfos": [],
       "metadata": {},
       "removedWidgets": [],
       "type": "html"
      }
     },
     "output_type": "display_data"
    }
   ],
   "source": [
    "df2 = df1.select(\"BrokerID\",\n",
    "                 \"DriftedNodeCol1\",\n",
    "                 \"DriftedNodeCol2\",\n",
    "                 \"DriftedNodeCol3\",\n",
    "                 \"Vehicle.BrokerID from left table\",\n",
    "                 \"Vehicle.BrokerID_VehNum\",\n",
    "                 explode(\"Vehicle.Coverage_Vehicle\").alias(\"Coverage_Vehicle\"),\n",
    "                 \"in_billing_payplan_selected\")"
   ]
  },
  {
   "cell_type": "code",
   "execution_count": 0,
   "metadata": {
    "application/vnd.databricks.v1+cell": {
     "cellMetadata": {
      "byteLimit": 2048000,
      "rowLimit": 10000
     },
     "inputWidgets": {},
     "nuid": "5d5e617c-4b1d-43ca-bad3-645c3ddf1b69",
     "showTitle": false,
     "title": ""
    }
   },
   "outputs": [
    {
     "output_type": "display_data",
     "data": {
      "text/html": [
       "<style scoped>\n",
       "  .ansiout {\n",
       "    display: block;\n",
       "    unicode-bidi: embed;\n",
       "    white-space: pre-wrap;\n",
       "    word-wrap: break-word;\n",
       "    word-break: break-all;\n",
       "    font-family: \"Source Code Pro\", \"Menlo\", monospace;;\n",
       "    font-size: 13px;\n",
       "    color: #555;\n",
       "    margin-left: 4px;\n",
       "    line-height: 19px;\n",
       "  }\n",
       "</style>\n",
       "<div class=\"ansiout\"></div>"
      ]
     },
     "metadata": {
      "application/vnd.databricks.v1+output": {
       "addedWidgets": {},
       "arguments": {},
       "data": "<div class=\"ansiout\"></div>",
       "datasetInfos": [],
       "metadata": {},
       "removedWidgets": [],
       "type": "html"
      }
     },
     "output_type": "display_data"
    }
   ],
   "source": [
    "df3 = df2.select(\"BrokerID\",\n",
    "                 \"DriftedNodeCol1\",\n",
    "                 \"DriftedNodeCol2\",\n",
    "                 \"DriftedNodeCol3\",\n",
    "                 \"BrokerID from left table\",\n",
    "                 \"BrokerID_VehNum\",\n",
    "                 col(\"Coverage_Vehicle.BrokerID_VehNum\").alias(\"BrokerID_VehNum1\"),\n",
    "                 \"Coverage_Vehicle.DriftedCovTest1\",\n",
    "                 explode(\"Coverage_Vehicle.anotherList\").alias(\"anotherList\"),\n",
    "                 \"Coverage_Vehicle.in_coverage_vehicle_cov_code\",\n",
    "                 \"Coverage_Vehicle.in_coverage_vehicle_term_code\",\n",
    "                 \"Coverage_Vehicle.in_coverage_vehicle_term_value\",\n",
    "                 \"Coverage_Vehicle.in_coverage_vehiclecov_code\",\n",
    "                 \"Coverage_Vehicle.in_coverage_vehicleterm_code\",\n",
    "                 \"in_billing_payplan_selected\")"
   ]
  },
  {
   "cell_type": "code",
   "execution_count": 0,
   "metadata": {
    "application/vnd.databricks.v1+cell": {
     "cellMetadata": {
      "byteLimit": 2048000,
      "rowLimit": 10000
     },
     "inputWidgets": {},
     "nuid": "af12530f-5bf2-4e3e-aff9-86a9193ece12",
     "showTitle": false,
     "title": ""
    }
   },
   "outputs": [
    {
     "output_type": "display_data",
     "data": {
      "text/html": [
       "<style scoped>\n",
       "  .table-result-container {\n",
       "    max-height: 300px;\n",
       "    overflow: auto;\n",
       "  }\n",
       "  table, th, td {\n",
       "    border: 1px solid black;\n",
       "    border-collapse: collapse;\n",
       "  }\n",
       "  th, td {\n",
       "    padding: 5px;\n",
       "  }\n",
       "  th {\n",
       "    text-align: left;\n",
       "  }\n",
       "</style><div class='table-result-container'><table class='table-result'><thead style='background-color: white'><tr><th>BrokerID</th><th>DriftedNodeCol1</th><th>DriftedNodeCol2</th><th>DriftedNodeCol3</th><th>BrokerID from left table</th><th>BrokerID_VehNum</th><th>BrokerID_VehNum1</th><th>DriftedCovTest1</th><th>anotherList</th><th>in_coverage_vehicle_cov_code</th><th>in_coverage_vehicle_term_code</th><th>in_coverage_vehicle_term_value</th><th>in_coverage_vehiclecov_code</th><th>in_coverage_vehicleterm_code</th><th>in_billing_payplan_selected</th></tr></thead><tbody><tr><td>45269912</td><td>1</td><td>2</td><td>3</td><td>45269912</td><td>45269912_1</td><td>45269912_1</td><td>drift1</td><td>List(1, 2)</td><td>null</td><td>null</td><td>null</td><td>EIPACustomEquipmentCov_Ext</td><td>null</td><td>paid_in_full</td></tr><tr><td>45269912</td><td>1</td><td>2</td><td>3</td><td>45269912</td><td>45269912_1</td><td>45269912_1</td><td>drift1</td><td>List(3, 4)</td><td>null</td><td>null</td><td>null</td><td>EIPACustomEquipmentCov_Ext</td><td>null</td><td>paid_in_full</td></tr><tr><td>45269912</td><td>1</td><td>2</td><td>3</td><td>45269912</td><td>45269912_1</td><td>45269912_1</td><td>null</td><td>List(7, 8)</td><td>null</td><td>null</td><td>null</td><td>EIPACustomEquipmentCov_Ext</td><td>EIPAExcessCustomEquipmentDescription_Ext</td><td>paid_in_full</td></tr><tr><td>45269912</td><td>1</td><td>2</td><td>3</td><td>45269912</td><td>45269912_1</td><td>45269912_1</td><td>null</td><td>List(9, 10)</td><td>null</td><td>null</td><td>null</td><td>EIPACustomEquipmentCov_Ext</td><td>EIPAExcessCustomEquipmentDescription_Ext</td><td>paid_in_full</td></tr></tbody></table></div>"
      ]
     },
     "metadata": {
      "application/vnd.databricks.v1+output": {
       "addedWidgets": {},
       "aggData": [],
       "aggError": "",
       "aggOverflow": false,
       "aggSchema": [],
       "aggSeriesLimitReached": false,
       "aggType": "",
       "arguments": {},
       "columnCustomDisplayInfos": {},
       "data": [
        [
         "45269912",
         "1",
         "2",
         "3",
         "45269912",
         "45269912_1",
         "45269912_1",
         "drift1",
         [
          1,
          2
         ],
         null,
         null,
         null,
         "EIPACustomEquipmentCov_Ext",
         null,
         "paid_in_full"
        ],
        [
         "45269912",
         "1",
         "2",
         "3",
         "45269912",
         "45269912_1",
         "45269912_1",
         "drift1",
         [
          3,
          4
         ],
         null,
         null,
         null,
         "EIPACustomEquipmentCov_Ext",
         null,
         "paid_in_full"
        ],
        [
         "45269912",
         "1",
         "2",
         "3",
         "45269912",
         "45269912_1",
         "45269912_1",
         null,
         [
          7,
          8
         ],
         null,
         null,
         null,
         "EIPACustomEquipmentCov_Ext",
         "EIPAExcessCustomEquipmentDescription_Ext",
         "paid_in_full"
        ],
        [
         "45269912",
         "1",
         "2",
         "3",
         "45269912",
         "45269912_1",
         "45269912_1",
         null,
         [
          9,
          10
         ],
         null,
         null,
         null,
         "EIPACustomEquipmentCov_Ext",
         "EIPAExcessCustomEquipmentDescription_Ext",
         "paid_in_full"
        ]
       ],
       "datasetInfos": [],
       "dbfsResultPath": null,
       "isJsonSchema": true,
       "metadata": {},
       "overflow": false,
       "plotOptions": {
        "customPlotOptions": {},
        "displayType": "table",
        "pivotAggregation": null,
        "pivotColumns": null,
        "xColumns": null,
        "yColumns": null
       },
       "removedWidgets": [],
       "schema": [
        {
         "metadata": "{}",
         "name": "BrokerID",
         "type": "\"string\""
        },
        {
         "metadata": "{}",
         "name": "DriftedNodeCol1",
         "type": "\"string\""
        },
        {
         "metadata": "{}",
         "name": "DriftedNodeCol2",
         "type": "\"string\""
        },
        {
         "metadata": "{}",
         "name": "DriftedNodeCol3",
         "type": "\"string\""
        },
        {
         "metadata": "{}",
         "name": "BrokerID from left table",
         "type": "\"string\""
        },
        {
         "metadata": "{}",
         "name": "BrokerID_VehNum",
         "type": "\"string\""
        },
        {
         "metadata": "{}",
         "name": "BrokerID_VehNum1",
         "type": "\"string\""
        },
        {
         "metadata": "{}",
         "name": "DriftedCovTest1",
         "type": "\"string\""
        },
        {
         "metadata": "{}",
         "name": "anotherList",
         "type": "{\"type\":\"struct\",\"fields\":[{\"name\":\"f1\",\"type\":\"long\",\"nullable\":true,\"metadata\":{}},{\"name\":\"f2\",\"type\":\"long\",\"nullable\":true,\"metadata\":{}}]}"
        },
        {
         "metadata": "{}",
         "name": "in_coverage_vehicle_cov_code",
         "type": "\"string\""
        },
        {
         "metadata": "{}",
         "name": "in_coverage_vehicle_term_code",
         "type": "\"string\""
        },
        {
         "metadata": "{}",
         "name": "in_coverage_vehicle_term_value",
         "type": "\"string\""
        },
        {
         "metadata": "{}",
         "name": "in_coverage_vehiclecov_code",
         "type": "\"string\""
        },
        {
         "metadata": "{}",
         "name": "in_coverage_vehicleterm_code",
         "type": "\"string\""
        },
        {
         "metadata": "{}",
         "name": "in_billing_payplan_selected",
         "type": "\"string\""
        }
       ],
       "type": "table"
      }
     },
     "output_type": "display_data"
    }
   ],
   "source": [
    "df3.display()"
   ]
  },
  {
   "cell_type": "code",
   "execution_count": 0,
   "metadata": {
    "application/vnd.databricks.v1+cell": {
     "cellMetadata": {
      "byteLimit": 2048000,
      "rowLimit": 10000
     },
     "inputWidgets": {},
     "nuid": "8598aadb-56f4-4957-abdd-441ca0a40acf",
     "showTitle": false,
     "title": ""
    }
   },
   "outputs": [
    {
     "output_type": "display_data",
     "data": {
      "text/html": [
       "<style scoped>\n",
       "  .ansiout {\n",
       "    display: block;\n",
       "    unicode-bidi: embed;\n",
       "    white-space: pre-wrap;\n",
       "    word-wrap: break-word;\n",
       "    word-break: break-all;\n",
       "    font-family: \"Source Code Pro\", \"Menlo\", monospace;;\n",
       "    font-size: 13px;\n",
       "    color: #555;\n",
       "    margin-left: 4px;\n",
       "    line-height: 19px;\n",
       "  }\n",
       "</style>\n",
       "<div class=\"ansiout\"></div>"
      ]
     },
     "metadata": {
      "application/vnd.databricks.v1+output": {
       "addedWidgets": {},
       "arguments": {},
       "data": "<div class=\"ansiout\"></div>",
       "datasetInfos": [],
       "metadata": {},
       "removedWidgets": [],
       "type": "html"
      }
     },
     "output_type": "display_data"
    }
   ],
   "source": [
    "df4 = df3.select(\"BrokerID\",\n",
    "                 \"DriftedNodeCol1\",\n",
    "                 \"DriftedNodeCol2\",\n",
    "                 \"DriftedNodeCol3\",\n",
    "                 \"BrokerID from left table\",\n",
    "                 \"BrokerID_VehNum\",\n",
    "                 \"BrokerID_VehNum1\",\n",
    "                 \"DriftedCovTest1\",\n",
    "                 \"anotherList.f1\",\n",
    "                 \"anotherList.f2\",\n",
    "                 \"in_coverage_vehicle_cov_code\",\n",
    "                 \"in_coverage_vehicle_term_code\",\n",
    "                 \"in_coverage_vehicle_term_value\",\n",
    "                 \"in_coverage_vehiclecov_code\",\n",
    "                 \"in_coverage_vehicleterm_code\",\n",
    "                 \"in_billing_payplan_selected\")"
   ]
  },
  {
   "cell_type": "code",
   "execution_count": 0,
   "metadata": {
    "application/vnd.databricks.v1+cell": {
     "cellMetadata": {
      "byteLimit": 2048000,
      "rowLimit": 10000
     },
     "inputWidgets": {},
     "nuid": "1298918f-a954-4c53-bd58-ae2c64752d91",
     "showTitle": false,
     "title": ""
    }
   },
   "outputs": [
    {
     "output_type": "display_data",
     "data": {
      "text/html": [
       "<style scoped>\n",
       "  .table-result-container {\n",
       "    max-height: 300px;\n",
       "    overflow: auto;\n",
       "  }\n",
       "  table, th, td {\n",
       "    border: 1px solid black;\n",
       "    border-collapse: collapse;\n",
       "  }\n",
       "  th, td {\n",
       "    padding: 5px;\n",
       "  }\n",
       "  th {\n",
       "    text-align: left;\n",
       "  }\n",
       "</style><div class='table-result-container'><table class='table-result'><thead style='background-color: white'><tr><th>BrokerID</th><th>DriftedNodeCol1</th><th>DriftedNodeCol2</th><th>DriftedNodeCol3</th><th>BrokerID from left table</th><th>BrokerID_VehNum</th><th>BrokerID_VehNum1</th><th>DriftedCovTest1</th><th>f1</th><th>f2</th><th>in_coverage_vehicle_cov_code</th><th>in_coverage_vehicle_term_code</th><th>in_coverage_vehicle_term_value</th><th>in_coverage_vehiclecov_code</th><th>in_coverage_vehicleterm_code</th><th>in_billing_payplan_selected</th></tr></thead><tbody><tr><td>45269912</td><td>1</td><td>2</td><td>3</td><td>45269912</td><td>45269912_1</td><td>45269912_1</td><td>drift1</td><td>1</td><td>2</td><td>null</td><td>null</td><td>null</td><td>EIPACustomEquipmentCov_Ext</td><td>null</td><td>paid_in_full</td></tr><tr><td>45269912</td><td>1</td><td>2</td><td>3</td><td>45269912</td><td>45269912_1</td><td>45269912_1</td><td>drift1</td><td>3</td><td>4</td><td>null</td><td>null</td><td>null</td><td>EIPACustomEquipmentCov_Ext</td><td>null</td><td>paid_in_full</td></tr><tr><td>45269912</td><td>1</td><td>2</td><td>3</td><td>45269912</td><td>45269912_1</td><td>45269912_1</td><td>null</td><td>7</td><td>8</td><td>null</td><td>null</td><td>null</td><td>EIPACustomEquipmentCov_Ext</td><td>EIPAExcessCustomEquipmentDescription_Ext</td><td>paid_in_full</td></tr><tr><td>45269912</td><td>1</td><td>2</td><td>3</td><td>45269912</td><td>45269912_1</td><td>45269912_1</td><td>null</td><td>9</td><td>10</td><td>null</td><td>null</td><td>null</td><td>EIPACustomEquipmentCov_Ext</td><td>EIPAExcessCustomEquipmentDescription_Ext</td><td>paid_in_full</td></tr></tbody></table></div>"
      ]
     },
     "metadata": {
      "application/vnd.databricks.v1+output": {
       "addedWidgets": {},
       "aggData": [],
       "aggError": "",
       "aggOverflow": false,
       "aggSchema": [],
       "aggSeriesLimitReached": false,
       "aggType": "",
       "arguments": {},
       "columnCustomDisplayInfos": {},
       "data": [
        [
         "45269912",
         "1",
         "2",
         "3",
         "45269912",
         "45269912_1",
         "45269912_1",
         "drift1",
         1,
         2,
         null,
         null,
         null,
         "EIPACustomEquipmentCov_Ext",
         null,
         "paid_in_full"
        ],
        [
         "45269912",
         "1",
         "2",
         "3",
         "45269912",
         "45269912_1",
         "45269912_1",
         "drift1",
         3,
         4,
         null,
         null,
         null,
         "EIPACustomEquipmentCov_Ext",
         null,
         "paid_in_full"
        ],
        [
         "45269912",
         "1",
         "2",
         "3",
         "45269912",
         "45269912_1",
         "45269912_1",
         null,
         7,
         8,
         null,
         null,
         null,
         "EIPACustomEquipmentCov_Ext",
         "EIPAExcessCustomEquipmentDescription_Ext",
         "paid_in_full"
        ],
        [
         "45269912",
         "1",
         "2",
         "3",
         "45269912",
         "45269912_1",
         "45269912_1",
         null,
         9,
         10,
         null,
         null,
         null,
         "EIPACustomEquipmentCov_Ext",
         "EIPAExcessCustomEquipmentDescription_Ext",
         "paid_in_full"
        ]
       ],
       "datasetInfos": [],
       "dbfsResultPath": null,
       "isJsonSchema": true,
       "metadata": {},
       "overflow": false,
       "plotOptions": {
        "customPlotOptions": {},
        "displayType": "table",
        "pivotAggregation": null,
        "pivotColumns": null,
        "xColumns": null,
        "yColumns": null
       },
       "removedWidgets": [],
       "schema": [
        {
         "metadata": "{}",
         "name": "BrokerID",
         "type": "\"string\""
        },
        {
         "metadata": "{}",
         "name": "DriftedNodeCol1",
         "type": "\"string\""
        },
        {
         "metadata": "{}",
         "name": "DriftedNodeCol2",
         "type": "\"string\""
        },
        {
         "metadata": "{}",
         "name": "DriftedNodeCol3",
         "type": "\"string\""
        },
        {
         "metadata": "{}",
         "name": "BrokerID from left table",
         "type": "\"string\""
        },
        {
         "metadata": "{}",
         "name": "BrokerID_VehNum",
         "type": "\"string\""
        },
        {
         "metadata": "{}",
         "name": "BrokerID_VehNum1",
         "type": "\"string\""
        },
        {
         "metadata": "{}",
         "name": "DriftedCovTest1",
         "type": "\"string\""
        },
        {
         "metadata": "{}",
         "name": "f1",
         "type": "\"long\""
        },
        {
         "metadata": "{}",
         "name": "f2",
         "type": "\"long\""
        },
        {
         "metadata": "{}",
         "name": "in_coverage_vehicle_cov_code",
         "type": "\"string\""
        },
        {
         "metadata": "{}",
         "name": "in_coverage_vehicle_term_code",
         "type": "\"string\""
        },
        {
         "metadata": "{}",
         "name": "in_coverage_vehicle_term_value",
         "type": "\"string\""
        },
        {
         "metadata": "{}",
         "name": "in_coverage_vehiclecov_code",
         "type": "\"string\""
        },
        {
         "metadata": "{}",
         "name": "in_coverage_vehicleterm_code",
         "type": "\"string\""
        },
        {
         "metadata": "{}",
         "name": "in_billing_payplan_selected",
         "type": "\"string\""
        }
       ],
       "type": "table"
      }
     },
     "output_type": "display_data"
    }
   ],
   "source": [
    "df4.display()"
   ]
  },
  {
   "cell_type": "code",
   "execution_count": 0,
   "metadata": {
    "application/vnd.databricks.v1+cell": {
     "cellMetadata": {
      "byteLimit": 2048000,
      "rowLimit": 10000
     },
     "inputWidgets": {},
     "nuid": "3098beff-39c7-4b63-a0d4-64ff85959113",
     "showTitle": false,
     "title": ""
    }
   },
   "outputs": [
    {
     "output_type": "display_data",
     "data": {
      "text/html": [
       "<style scoped>\n",
       "  .ansiout {\n",
       "    display: block;\n",
       "    unicode-bidi: embed;\n",
       "    white-space: pre-wrap;\n",
       "    word-wrap: break-word;\n",
       "    word-break: break-all;\n",
       "    font-family: \"Source Code Pro\", \"Menlo\", monospace;;\n",
       "    font-size: 13px;\n",
       "    color: #555;\n",
       "    margin-left: 4px;\n",
       "    line-height: 19px;\n",
       "  }\n",
       "</style>\n",
       "<div class=\"ansiout\"></div>"
      ]
     },
     "metadata": {
      "application/vnd.databricks.v1+output": {
       "addedWidgets": {},
       "arguments": {},
       "data": "<div class=\"ansiout\"></div>",
       "datasetInfos": [],
       "metadata": {},
       "removedWidgets": [],
       "type": "html"
      }
     },
     "output_type": "display_data"
    },
    {
     "output_type": "display_data",
     "data": {
      "text/html": [
       "<style scoped>\n",
       "  .ansiout {\n",
       "    display: block;\n",
       "    unicode-bidi: embed;\n",
       "    white-space: pre-wrap;\n",
       "    word-wrap: break-word;\n",
       "    word-break: break-all;\n",
       "    font-family: \"Source Code Pro\", \"Menlo\", monospace;;\n",
       "    font-size: 13px;\n",
       "    color: #555;\n",
       "    margin-left: 4px;\n",
       "    line-height: 19px;\n",
       "  }\n",
       "</style>\n",
       "<div class=\"ansiout\"><span class=\"ansi-red-fg\">---------------------------------------------------------------------------</span>\n",
       "<span class=\"ansi-red-fg\">AttributeError</span>                            Traceback (most recent call last)\n",
       "<span class=\"ansi-green-fg\">&lt;command-2785611759252407&gt;</span> in <span class=\"ansi-cyan-fg\">&lt;module&gt;</span>\n",
       "<span class=\"ansi-green-fg\">----&gt; 1</span><span class=\"ansi-red-fg\"> </span>df_exploded <span class=\"ansi-blue-fg\">=</span> df<span class=\"ansi-blue-fg\">.</span>select<span class=\"ansi-blue-fg\">(</span>df<span class=\"ansi-blue-fg\">.</span>BrokerID<span class=\"ansi-blue-fg\">,</span>df<span class=\"ansi-blue-fg\">.</span>DriftedNode<span class=\"ansi-blue-fg\">,</span>explode<span class=\"ansi-blue-fg\">(</span><span class=\"ansi-blue-fg\">&#34;Policy.Vehicle&#34;</span><span class=\"ansi-blue-fg\">)</span><span class=\"ansi-blue-fg\">)</span>\n",
       "\n",
       "<span class=\"ansi-green-fg\">/databricks/spark/python/pyspark/sql/dataframe.py</span> in <span class=\"ansi-cyan-fg\">__getattr__</span><span class=\"ansi-blue-fg\">(self, name)</span>\n",
       "<span class=\"ansi-green-intense-fg ansi-bold\">   1798</span>         &#34;&#34;&#34;\n",
       "<span class=\"ansi-green-intense-fg ansi-bold\">   1799</span>         <span class=\"ansi-green-fg\">if</span> name <span class=\"ansi-green-fg\">not</span> <span class=\"ansi-green-fg\">in</span> self<span class=\"ansi-blue-fg\">.</span>columns<span class=\"ansi-blue-fg\">:</span>\n",
       "<span class=\"ansi-green-fg\">-&gt; 1800</span><span class=\"ansi-red-fg\">             raise AttributeError(\n",
       "</span><span class=\"ansi-green-intense-fg ansi-bold\">   1801</span>                 &#34;&#39;%s&#39; object has no attribute &#39;%s&#39;&#34; % (self.__class__.__name__, name))\n",
       "<span class=\"ansi-green-intense-fg ansi-bold\">   1802</span>         jc <span class=\"ansi-blue-fg\">=</span> self<span class=\"ansi-blue-fg\">.</span>_jdf<span class=\"ansi-blue-fg\">.</span>apply<span class=\"ansi-blue-fg\">(</span>name<span class=\"ansi-blue-fg\">)</span>\n",
       "\n",
       "<span class=\"ansi-red-fg\">AttributeError</span>: &#39;DataFrame&#39; object has no attribute &#39;BrokerID&#39;</div>"
      ]
     },
     "metadata": {
      "application/vnd.databricks.v1+output": {
       "arguments": {},
       "data": "<div class=\"ansiout\"><span class=\"ansi-red-fg\">---------------------------------------------------------------------------</span>\n<span class=\"ansi-red-fg\">AttributeError</span>                            Traceback (most recent call last)\n<span class=\"ansi-green-fg\">&lt;command-2785611759252407&gt;</span> in <span class=\"ansi-cyan-fg\">&lt;module&gt;</span>\n<span class=\"ansi-green-fg\">----&gt; 1</span><span class=\"ansi-red-fg\"> </span>df_exploded <span class=\"ansi-blue-fg\">=</span> df<span class=\"ansi-blue-fg\">.</span>select<span class=\"ansi-blue-fg\">(</span>df<span class=\"ansi-blue-fg\">.</span>BrokerID<span class=\"ansi-blue-fg\">,</span>df<span class=\"ansi-blue-fg\">.</span>DriftedNode<span class=\"ansi-blue-fg\">,</span>explode<span class=\"ansi-blue-fg\">(</span><span class=\"ansi-blue-fg\">&#34;Policy.Vehicle&#34;</span><span class=\"ansi-blue-fg\">)</span><span class=\"ansi-blue-fg\">)</span>\n\n<span class=\"ansi-green-fg\">/databricks/spark/python/pyspark/sql/dataframe.py</span> in <span class=\"ansi-cyan-fg\">__getattr__</span><span class=\"ansi-blue-fg\">(self, name)</span>\n<span class=\"ansi-green-intense-fg ansi-bold\">   1798</span>         &#34;&#34;&#34;\n<span class=\"ansi-green-intense-fg ansi-bold\">   1799</span>         <span class=\"ansi-green-fg\">if</span> name <span class=\"ansi-green-fg\">not</span> <span class=\"ansi-green-fg\">in</span> self<span class=\"ansi-blue-fg\">.</span>columns<span class=\"ansi-blue-fg\">:</span>\n<span class=\"ansi-green-fg\">-&gt; 1800</span><span class=\"ansi-red-fg\">             raise AttributeError(\n</span><span class=\"ansi-green-intense-fg ansi-bold\">   1801</span>                 &#34;&#39;%s&#39; object has no attribute &#39;%s&#39;&#34; % (self.__class__.__name__, name))\n<span class=\"ansi-green-intense-fg ansi-bold\">   1802</span>         jc <span class=\"ansi-blue-fg\">=</span> self<span class=\"ansi-blue-fg\">.</span>_jdf<span class=\"ansi-blue-fg\">.</span>apply<span class=\"ansi-blue-fg\">(</span>name<span class=\"ansi-blue-fg\">)</span>\n\n<span class=\"ansi-red-fg\">AttributeError</span>: &#39;DataFrame&#39; object has no attribute &#39;BrokerID&#39;</div>",
       "errorSummary": "<span class=\"ansi-red-fg\">AttributeError</span>: &#39;DataFrame&#39; object has no attribute &#39;BrokerID&#39;",
       "errorTraceType": "html",
       "metadata": {},
       "type": "ipynbError"
      }
     },
     "output_type": "display_data"
    }
   ],
   "source": [
    "# df_exploded = df.select(df.BrokerID,df.DriftedNode,explode(\"Policy.Vehicle\"))"
   ]
  },
  {
   "cell_type": "code",
   "execution_count": 0,
   "metadata": {
    "application/vnd.databricks.v1+cell": {
     "cellMetadata": {
      "byteLimit": 2048000,
      "rowLimit": 10000
     },
     "inputWidgets": {},
     "nuid": "e01f4d79-de4c-4188-a747-9c1fb9deeb75",
     "showTitle": false,
     "title": ""
    }
   },
   "outputs": [
    {
     "output_type": "display_data",
     "data": {
      "text/html": [
       "<style scoped>\n",
       "  .ansiout {\n",
       "    display: block;\n",
       "    unicode-bidi: embed;\n",
       "    white-space: pre-wrap;\n",
       "    word-wrap: break-word;\n",
       "    word-break: break-all;\n",
       "    font-family: \"Source Code Pro\", \"Menlo\", monospace;;\n",
       "    font-size: 13px;\n",
       "    color: #555;\n",
       "    margin-left: 4px;\n",
       "    line-height: 19px;\n",
       "  }\n",
       "</style>\n",
       "<div class=\"ansiout\"></div>"
      ]
     },
     "metadata": {
      "application/vnd.databricks.v1+output": {
       "addedWidgets": {},
       "arguments": {},
       "data": "<div class=\"ansiout\"></div>",
       "datasetInfos": [],
       "metadata": {},
       "removedWidgets": [],
       "type": "html"
      }
     },
     "output_type": "display_data"
    }
   ],
   "source": [
    "# df_exploded.display()"
   ]
  },
  {
   "cell_type": "code",
   "execution_count": 0,
   "metadata": {
    "application/vnd.databricks.v1+cell": {
     "cellMetadata": {
      "byteLimit": 2048000,
      "rowLimit": 10000
     },
     "inputWidgets": {},
     "nuid": "d26113f8-c27d-4536-9343-d2ac684cdd53",
     "showTitle": false,
     "title": ""
    }
   },
   "outputs": [
    {
     "output_type": "display_data",
     "data": {
      "text/html": [
       "<style scoped>\n",
       "  .ansiout {\n",
       "    display: block;\n",
       "    unicode-bidi: embed;\n",
       "    white-space: pre-wrap;\n",
       "    word-wrap: break-word;\n",
       "    word-break: break-all;\n",
       "    font-family: \"Source Code Pro\", \"Menlo\", monospace;;\n",
       "    font-size: 13px;\n",
       "    color: #555;\n",
       "    margin-left: 4px;\n",
       "    line-height: 19px;\n",
       "  }\n",
       "</style>\n",
       "<div class=\"ansiout\"></div>"
      ]
     },
     "metadata": {
      "application/vnd.databricks.v1+output": {
       "addedWidgets": {},
       "arguments": {},
       "data": "<div class=\"ansiout\"></div>",
       "datasetInfos": [],
       "metadata": {},
       "removedWidgets": [],
       "type": "html"
      }
     },
     "output_type": "display_data"
    }
   ],
   "source": [
    "# df_exploded2 = df_exploded.select(col(\"col.*\"))"
   ]
  },
  {
   "cell_type": "code",
   "execution_count": 0,
   "metadata": {
    "application/vnd.databricks.v1+cell": {
     "cellMetadata": {
      "byteLimit": 2048000,
      "rowLimit": 10000
     },
     "inputWidgets": {},
     "nuid": "a585c560-63a2-4511-8b7a-e744bc601e60",
     "showTitle": false,
     "title": ""
    }
   },
   "outputs": [
    {
     "output_type": "display_data",
     "data": {
      "text/html": [
       "<style scoped>\n",
       "  .ansiout {\n",
       "    display: block;\n",
       "    unicode-bidi: embed;\n",
       "    white-space: pre-wrap;\n",
       "    word-wrap: break-word;\n",
       "    word-break: break-all;\n",
       "    font-family: \"Source Code Pro\", \"Menlo\", monospace;;\n",
       "    font-size: 13px;\n",
       "    color: #555;\n",
       "    margin-left: 4px;\n",
       "    line-height: 19px;\n",
       "  }\n",
       "</style>\n",
       "<div class=\"ansiout\"></div>"
      ]
     },
     "metadata": {
      "application/vnd.databricks.v1+output": {
       "addedWidgets": {},
       "arguments": {},
       "data": "<div class=\"ansiout\"></div>",
       "datasetInfos": [],
       "metadata": {},
       "removedWidgets": [],
       "type": "html"
      }
     },
     "output_type": "display_data"
    },
    {
     "output_type": "display_data",
     "data": {
      "text/html": [
       "<style scoped>\n",
       "  .ansiout {\n",
       "    display: block;\n",
       "    unicode-bidi: embed;\n",
       "    white-space: pre-wrap;\n",
       "    word-wrap: break-word;\n",
       "    word-break: break-all;\n",
       "    font-family: \"Source Code Pro\", \"Menlo\", monospace;;\n",
       "    font-size: 13px;\n",
       "    color: #555;\n",
       "    margin-left: 4px;\n",
       "    line-height: 19px;\n",
       "  }\n",
       "</style>\n",
       "<div class=\"ansiout\"><span class=\"ansi-red-fg\">---------------------------------------------------------------------------</span>\n",
       "<span class=\"ansi-red-fg\">AnalysisException</span>                         Traceback (most recent call last)\n",
       "<span class=\"ansi-green-fg\">&lt;command-2785611759252452&gt;</span> in <span class=\"ansi-cyan-fg\">&lt;module&gt;</span>\n",
       "<span class=\"ansi-green-fg\">----&gt; 1</span><span class=\"ansi-red-fg\"> </span>dfz <span class=\"ansi-blue-fg\">=</span> df_exploded2<span class=\"ansi-blue-fg\">.</span>select<span class=\"ansi-blue-fg\">(</span>flatten<span class=\"ansi-blue-fg\">(</span><span class=\"ansi-blue-fg\">&#34;Coverage_Vehicle&#34;</span><span class=\"ansi-blue-fg\">)</span><span class=\"ansi-blue-fg\">)</span>\n",
       "\n",
       "<span class=\"ansi-green-fg\">/databricks/spark/python/pyspark/sql/dataframe.py</span> in <span class=\"ansi-cyan-fg\">select</span><span class=\"ansi-blue-fg\">(self, *cols)</span>\n",
       "<span class=\"ansi-green-intense-fg ansi-bold\">   1824</span>         <span class=\"ansi-blue-fg\">[</span>Row<span class=\"ansi-blue-fg\">(</span>name<span class=\"ansi-blue-fg\">=</span><span class=\"ansi-blue-fg\">&#39;Alice&#39;</span><span class=\"ansi-blue-fg\">,</span> age<span class=\"ansi-blue-fg\">=</span><span class=\"ansi-cyan-fg\">12</span><span class=\"ansi-blue-fg\">)</span><span class=\"ansi-blue-fg\">,</span> Row<span class=\"ansi-blue-fg\">(</span>name<span class=\"ansi-blue-fg\">=</span><span class=\"ansi-blue-fg\">&#39;Bob&#39;</span><span class=\"ansi-blue-fg\">,</span> age<span class=\"ansi-blue-fg\">=</span><span class=\"ansi-cyan-fg\">15</span><span class=\"ansi-blue-fg\">)</span><span class=\"ansi-blue-fg\">]</span>\n",
       "<span class=\"ansi-green-intense-fg ansi-bold\">   1825</span>         &#34;&#34;&#34;\n",
       "<span class=\"ansi-green-fg\">-&gt; 1826</span><span class=\"ansi-red-fg\">         </span>jdf <span class=\"ansi-blue-fg\">=</span> self<span class=\"ansi-blue-fg\">.</span>_jdf<span class=\"ansi-blue-fg\">.</span>select<span class=\"ansi-blue-fg\">(</span>self<span class=\"ansi-blue-fg\">.</span>_jcols<span class=\"ansi-blue-fg\">(</span><span class=\"ansi-blue-fg\">*</span>cols<span class=\"ansi-blue-fg\">)</span><span class=\"ansi-blue-fg\">)</span>\n",
       "<span class=\"ansi-green-intense-fg ansi-bold\">   1827</span>         <span class=\"ansi-green-fg\">return</span> DataFrame<span class=\"ansi-blue-fg\">(</span>jdf<span class=\"ansi-blue-fg\">,</span> self<span class=\"ansi-blue-fg\">.</span>sql_ctx<span class=\"ansi-blue-fg\">)</span>\n",
       "<span class=\"ansi-green-intense-fg ansi-bold\">   1828</span> \n",
       "\n",
       "<span class=\"ansi-green-fg\">/databricks/spark/python/lib/py4j-0.10.9.1-src.zip/py4j/java_gateway.py</span> in <span class=\"ansi-cyan-fg\">__call__</span><span class=\"ansi-blue-fg\">(self, *args)</span>\n",
       "<span class=\"ansi-green-intense-fg ansi-bold\">   1302</span> \n",
       "<span class=\"ansi-green-intense-fg ansi-bold\">   1303</span>         answer <span class=\"ansi-blue-fg\">=</span> self<span class=\"ansi-blue-fg\">.</span>gateway_client<span class=\"ansi-blue-fg\">.</span>send_command<span class=\"ansi-blue-fg\">(</span>command<span class=\"ansi-blue-fg\">)</span>\n",
       "<span class=\"ansi-green-fg\">-&gt; 1304</span><span class=\"ansi-red-fg\">         return_value = get_return_value(\n",
       "</span><span class=\"ansi-green-intense-fg ansi-bold\">   1305</span>             answer, self.gateway_client, self.target_id, self.name)\n",
       "<span class=\"ansi-green-intense-fg ansi-bold\">   1306</span> \n",
       "\n",
       "<span class=\"ansi-green-fg\">/databricks/spark/python/pyspark/sql/utils.py</span> in <span class=\"ansi-cyan-fg\">deco</span><span class=\"ansi-blue-fg\">(*a, **kw)</span>\n",
       "<span class=\"ansi-green-intense-fg ansi-bold\">    121</span>                 <span class=\"ansi-red-fg\"># Hide where the exception came from that shows a non-Pythonic</span>\n",
       "<span class=\"ansi-green-intense-fg ansi-bold\">    122</span>                 <span class=\"ansi-red-fg\"># JVM exception message.</span>\n",
       "<span class=\"ansi-green-fg\">--&gt; 123</span><span class=\"ansi-red-fg\">                 </span><span class=\"ansi-green-fg\">raise</span> converted <span class=\"ansi-green-fg\">from</span> <span class=\"ansi-green-fg\">None</span>\n",
       "<span class=\"ansi-green-intense-fg ansi-bold\">    124</span>             <span class=\"ansi-green-fg\">else</span><span class=\"ansi-blue-fg\">:</span>\n",
       "<span class=\"ansi-green-intense-fg ansi-bold\">    125</span>                 <span class=\"ansi-green-fg\">raise</span>\n",
       "\n",
       "<span class=\"ansi-red-fg\">AnalysisException</span>: cannot resolve &#39;flatten(Coverage_Vehicle)&#39; due to data type mismatch: The argument should be an array of arrays, but &#39;Coverage_Vehicle&#39; is of array&lt;struct&lt;BrokerID_VehNum:string,DriftedCovTest1:string,anotherList:array&lt;struct&lt;f1:bigint,f2:bigint&gt;&gt;,in_coverage_vehicle_cov_code:string,in_coverage_vehicle_term_code:string,in_coverage_vehicle_term_value:string,in_coverage_vehiclecov_code:string,in_coverage_vehicleterm_code:string&gt;&gt; type.;\n",
       "&#39;Project [unresolvedalias(flatten(Coverage_Vehicle#179652), Some(org.apache.spark.sql.Column$$Lambda$7115/642993099@4994e7b))]\n",
       "+- Project [col#179647.BrokerID from left table AS BrokerID from left table#179650, col#179647.BrokerID_VehNum AS BrokerID_VehNum#179651, col#179647.Coverage_Vehicle AS Coverage_Vehicle#179652, col#179647.drc_out_rating_vehicle_bi_calculation AS drc_out_rating_vehicle_bi_calculation#179653, col#179647.drc_out_rating_vehicle_comp_calculation AS drc_out_rating_vehicle_comp_calculation#179654, col#179647.in_vehicle_antilock AS in_vehicle_antilock#179655, col#179647.in_vehicle_garage_zip_code_dnu AS in_vehicle_garage_zip_code_dnu#179656]\n",
       "   +- Project [col#179647]\n",
       "      +- Generate explode(Policy#179643.Vehicle), false, [col#179647]\n",
       "         +- Relation [Policy#179643] json\n",
       "</div>"
      ]
     },
     "metadata": {
      "application/vnd.databricks.v1+output": {
       "arguments": {},
       "data": "<div class=\"ansiout\"><span class=\"ansi-red-fg\">---------------------------------------------------------------------------</span>\n<span class=\"ansi-red-fg\">AnalysisException</span>                         Traceback (most recent call last)\n<span class=\"ansi-green-fg\">&lt;command-2785611759252452&gt;</span> in <span class=\"ansi-cyan-fg\">&lt;module&gt;</span>\n<span class=\"ansi-green-fg\">----&gt; 1</span><span class=\"ansi-red-fg\"> </span>dfz <span class=\"ansi-blue-fg\">=</span> df_exploded2<span class=\"ansi-blue-fg\">.</span>select<span class=\"ansi-blue-fg\">(</span>flatten<span class=\"ansi-blue-fg\">(</span><span class=\"ansi-blue-fg\">&#34;Coverage_Vehicle&#34;</span><span class=\"ansi-blue-fg\">)</span><span class=\"ansi-blue-fg\">)</span>\n\n<span class=\"ansi-green-fg\">/databricks/spark/python/pyspark/sql/dataframe.py</span> in <span class=\"ansi-cyan-fg\">select</span><span class=\"ansi-blue-fg\">(self, *cols)</span>\n<span class=\"ansi-green-intense-fg ansi-bold\">   1824</span>         <span class=\"ansi-blue-fg\">[</span>Row<span class=\"ansi-blue-fg\">(</span>name<span class=\"ansi-blue-fg\">=</span><span class=\"ansi-blue-fg\">&#39;Alice&#39;</span><span class=\"ansi-blue-fg\">,</span> age<span class=\"ansi-blue-fg\">=</span><span class=\"ansi-cyan-fg\">12</span><span class=\"ansi-blue-fg\">)</span><span class=\"ansi-blue-fg\">,</span> Row<span class=\"ansi-blue-fg\">(</span>name<span class=\"ansi-blue-fg\">=</span><span class=\"ansi-blue-fg\">&#39;Bob&#39;</span><span class=\"ansi-blue-fg\">,</span> age<span class=\"ansi-blue-fg\">=</span><span class=\"ansi-cyan-fg\">15</span><span class=\"ansi-blue-fg\">)</span><span class=\"ansi-blue-fg\">]</span>\n<span class=\"ansi-green-intense-fg ansi-bold\">   1825</span>         &#34;&#34;&#34;\n<span class=\"ansi-green-fg\">-&gt; 1826</span><span class=\"ansi-red-fg\">         </span>jdf <span class=\"ansi-blue-fg\">=</span> self<span class=\"ansi-blue-fg\">.</span>_jdf<span class=\"ansi-blue-fg\">.</span>select<span class=\"ansi-blue-fg\">(</span>self<span class=\"ansi-blue-fg\">.</span>_jcols<span class=\"ansi-blue-fg\">(</span><span class=\"ansi-blue-fg\">*</span>cols<span class=\"ansi-blue-fg\">)</span><span class=\"ansi-blue-fg\">)</span>\n<span class=\"ansi-green-intense-fg ansi-bold\">   1827</span>         <span class=\"ansi-green-fg\">return</span> DataFrame<span class=\"ansi-blue-fg\">(</span>jdf<span class=\"ansi-blue-fg\">,</span> self<span class=\"ansi-blue-fg\">.</span>sql_ctx<span class=\"ansi-blue-fg\">)</span>\n<span class=\"ansi-green-intense-fg ansi-bold\">   1828</span> \n\n<span class=\"ansi-green-fg\">/databricks/spark/python/lib/py4j-0.10.9.1-src.zip/py4j/java_gateway.py</span> in <span class=\"ansi-cyan-fg\">__call__</span><span class=\"ansi-blue-fg\">(self, *args)</span>\n<span class=\"ansi-green-intense-fg ansi-bold\">   1302</span> \n<span class=\"ansi-green-intense-fg ansi-bold\">   1303</span>         answer <span class=\"ansi-blue-fg\">=</span> self<span class=\"ansi-blue-fg\">.</span>gateway_client<span class=\"ansi-blue-fg\">.</span>send_command<span class=\"ansi-blue-fg\">(</span>command<span class=\"ansi-blue-fg\">)</span>\n<span class=\"ansi-green-fg\">-&gt; 1304</span><span class=\"ansi-red-fg\">         return_value = get_return_value(\n</span><span class=\"ansi-green-intense-fg ansi-bold\">   1305</span>             answer, self.gateway_client, self.target_id, self.name)\n<span class=\"ansi-green-intense-fg ansi-bold\">   1306</span> \n\n<span class=\"ansi-green-fg\">/databricks/spark/python/pyspark/sql/utils.py</span> in <span class=\"ansi-cyan-fg\">deco</span><span class=\"ansi-blue-fg\">(*a, **kw)</span>\n<span class=\"ansi-green-intense-fg ansi-bold\">    121</span>                 <span class=\"ansi-red-fg\"># Hide where the exception came from that shows a non-Pythonic</span>\n<span class=\"ansi-green-intense-fg ansi-bold\">    122</span>                 <span class=\"ansi-red-fg\"># JVM exception message.</span>\n<span class=\"ansi-green-fg\">--&gt; 123</span><span class=\"ansi-red-fg\">                 </span><span class=\"ansi-green-fg\">raise</span> converted <span class=\"ansi-green-fg\">from</span> <span class=\"ansi-green-fg\">None</span>\n<span class=\"ansi-green-intense-fg ansi-bold\">    124</span>             <span class=\"ansi-green-fg\">else</span><span class=\"ansi-blue-fg\">:</span>\n<span class=\"ansi-green-intense-fg ansi-bold\">    125</span>                 <span class=\"ansi-green-fg\">raise</span>\n\n<span class=\"ansi-red-fg\">AnalysisException</span>: cannot resolve &#39;flatten(Coverage_Vehicle)&#39; due to data type mismatch: The argument should be an array of arrays, but &#39;Coverage_Vehicle&#39; is of array&lt;struct&lt;BrokerID_VehNum:string,DriftedCovTest1:string,anotherList:array&lt;struct&lt;f1:bigint,f2:bigint&gt;&gt;,in_coverage_vehicle_cov_code:string,in_coverage_vehicle_term_code:string,in_coverage_vehicle_term_value:string,in_coverage_vehiclecov_code:string,in_coverage_vehicleterm_code:string&gt;&gt; type.;\n&#39;Project [unresolvedalias(flatten(Coverage_Vehicle#179652), Some(org.apache.spark.sql.Column$$Lambda$7115/642993099@4994e7b))]\n+- Project [col#179647.BrokerID from left table AS BrokerID from left table#179650, col#179647.BrokerID_VehNum AS BrokerID_VehNum#179651, col#179647.Coverage_Vehicle AS Coverage_Vehicle#179652, col#179647.drc_out_rating_vehicle_bi_calculation AS drc_out_rating_vehicle_bi_calculation#179653, col#179647.drc_out_rating_vehicle_comp_calculation AS drc_out_rating_vehicle_comp_calculation#179654, col#179647.in_vehicle_antilock AS in_vehicle_antilock#179655, col#179647.in_vehicle_garage_zip_code_dnu AS in_vehicle_garage_zip_code_dnu#179656]\n   +- Project [col#179647]\n      +- Generate explode(Policy#179643.Vehicle), false, [col#179647]\n         +- Relation [Policy#179643] json\n</div>",
       "errorSummary": "<span class=\"ansi-red-fg\">AnalysisException</span>: cannot resolve &#39;flatten(Coverage_Vehicle)&#39; due to data type mismatch: The argument should be an array of arrays, but &#39;Coverage_Vehicle&#39; is of array&lt;struct&lt;BrokerID_VehNum:string,DriftedCovTest1:string,anotherList:array&lt;struct&lt;f1:bigint,f2:bigint&gt;&gt;,in_coverage_vehicle_cov_code:string,in_coverage_vehicle_term_code:string,in_coverage_vehicle_term_value:string,in_coverage_vehiclecov_code:string,in_coverage_vehicleterm_code:string&gt;&gt; type.;",
       "errorTraceType": "html",
       "metadata": {},
       "type": "ipynbError"
      }
     },
     "output_type": "display_data"
    }
   ],
   "source": [
    "# dfz = df_exploded2.select(flatten(\"Coverage_Vehicle\"))"
   ]
  },
  {
   "cell_type": "code",
   "execution_count": 0,
   "metadata": {
    "application/vnd.databricks.v1+cell": {
     "cellMetadata": {
      "byteLimit": 2048000,
      "rowLimit": 10000
     },
     "inputWidgets": {},
     "nuid": "f1b9aaae-71ba-4d5d-afdf-e3fe985b7493",
     "showTitle": false,
     "title": ""
    }
   },
   "outputs": [
    {
     "output_type": "display_data",
     "data": {
      "text/html": [
       "<style scoped>\n",
       "  .ansiout {\n",
       "    display: block;\n",
       "    unicode-bidi: embed;\n",
       "    white-space: pre-wrap;\n",
       "    word-wrap: break-word;\n",
       "    word-break: break-all;\n",
       "    font-family: \"Source Code Pro\", \"Menlo\", monospace;;\n",
       "    font-size: 13px;\n",
       "    color: #555;\n",
       "    margin-left: 4px;\n",
       "    line-height: 19px;\n",
       "  }\n",
       "</style>\n",
       "<div class=\"ansiout\"></div>"
      ]
     },
     "metadata": {
      "application/vnd.databricks.v1+output": {
       "addedWidgets": {},
       "arguments": {},
       "data": "<div class=\"ansiout\"></div>",
       "datasetInfos": [],
       "metadata": {},
       "removedWidgets": [],
       "type": "html"
      }
     },
     "output_type": "display_data"
    }
   ],
   "source": [
    "# df_exploded2.display()"
   ]
  },
  {
   "cell_type": "code",
   "execution_count": 0,
   "metadata": {
    "application/vnd.databricks.v1+cell": {
     "cellMetadata": {
      "byteLimit": 2048000,
      "rowLimit": 10000
     },
     "inputWidgets": {},
     "nuid": "d0f9beae-2d47-43ac-ac61-df60d980f899",
     "showTitle": false,
     "title": ""
    }
   },
   "outputs": [
    {
     "output_type": "display_data",
     "data": {
      "text/html": [
       "<style scoped>\n",
       "  .ansiout {\n",
       "    display: block;\n",
       "    unicode-bidi: embed;\n",
       "    white-space: pre-wrap;\n",
       "    word-wrap: break-word;\n",
       "    word-break: break-all;\n",
       "    font-family: \"Source Code Pro\", \"Menlo\", monospace;;\n",
       "    font-size: 13px;\n",
       "    color: #555;\n",
       "    margin-left: 4px;\n",
       "    line-height: 19px;\n",
       "  }\n",
       "</style>\n",
       "<div class=\"ansiout\"></div>"
      ]
     },
     "metadata": {
      "application/vnd.databricks.v1+output": {
       "addedWidgets": {},
       "arguments": {},
       "data": "<div class=\"ansiout\"></div>",
       "datasetInfos": [],
       "metadata": {},
       "removedWidgets": [],
       "type": "html"
      }
     },
     "output_type": "display_data"
    }
   ],
   "source": [
    "# df_exploded3 = df_exploded2.select(explode(\"Coverage_Vehicle\"))"
   ]
  },
  {
   "cell_type": "code",
   "execution_count": 0,
   "metadata": {
    "application/vnd.databricks.v1+cell": {
     "cellMetadata": {
      "byteLimit": 2048000,
      "rowLimit": 10000
     },
     "inputWidgets": {},
     "nuid": "a94cc8a8-b5be-4e09-819c-8238dc7bf3b2",
     "showTitle": false,
     "title": ""
    }
   },
   "outputs": [
    {
     "output_type": "display_data",
     "data": {
      "text/html": [
       "<style scoped>\n",
       "  .ansiout {\n",
       "    display: block;\n",
       "    unicode-bidi: embed;\n",
       "    white-space: pre-wrap;\n",
       "    word-wrap: break-word;\n",
       "    word-break: break-all;\n",
       "    font-family: \"Source Code Pro\", \"Menlo\", monospace;;\n",
       "    font-size: 13px;\n",
       "    color: #555;\n",
       "    margin-left: 4px;\n",
       "    line-height: 19px;\n",
       "  }\n",
       "</style>\n",
       "<div class=\"ansiout\"></div>"
      ]
     },
     "metadata": {
      "application/vnd.databricks.v1+output": {
       "addedWidgets": {},
       "arguments": {},
       "data": "<div class=\"ansiout\"></div>",
       "datasetInfos": [],
       "metadata": {},
       "removedWidgets": [],
       "type": "html"
      }
     },
     "output_type": "display_data"
    }
   ],
   "source": [
    "# df_exploded3 = df_exploded3.select(col(\"col.*\"))"
   ]
  },
  {
   "cell_type": "code",
   "execution_count": 0,
   "metadata": {
    "application/vnd.databricks.v1+cell": {
     "cellMetadata": {
      "byteLimit": 2048000,
      "rowLimit": 10000
     },
     "inputWidgets": {},
     "nuid": "2f3af140-55cc-48a2-b16f-54e278315a21",
     "showTitle": false,
     "title": ""
    }
   },
   "outputs": [
    {
     "output_type": "display_data",
     "data": {
      "text/html": [
       "<style scoped>\n",
       "  .ansiout {\n",
       "    display: block;\n",
       "    unicode-bidi: embed;\n",
       "    white-space: pre-wrap;\n",
       "    word-wrap: break-word;\n",
       "    word-break: break-all;\n",
       "    font-family: \"Source Code Pro\", \"Menlo\", monospace;;\n",
       "    font-size: 13px;\n",
       "    color: #555;\n",
       "    margin-left: 4px;\n",
       "    line-height: 19px;\n",
       "  }\n",
       "</style>\n",
       "<div class=\"ansiout\"></div>"
      ]
     },
     "metadata": {
      "application/vnd.databricks.v1+output": {
       "addedWidgets": {},
       "arguments": {},
       "data": "<div class=\"ansiout\"></div>",
       "datasetInfos": [],
       "metadata": {},
       "removedWidgets": [],
       "type": "html"
      }
     },
     "output_type": "display_data"
    }
   ],
   "source": [
    "# df_exploded3.display()"
   ]
  },
  {
   "cell_type": "code",
   "execution_count": 0,
   "metadata": {
    "application/vnd.databricks.v1+cell": {
     "cellMetadata": {
      "byteLimit": 2048000,
      "rowLimit": 10000
     },
     "inputWidgets": {},
     "nuid": "39e2a719-934d-4ad9-b70d-8f97fd3c495d",
     "showTitle": false,
     "title": ""
    }
   },
   "outputs": [
    {
     "output_type": "display_data",
     "data": {
      "text/html": [
       "<style scoped>\n",
       "  .ansiout {\n",
       "    display: block;\n",
       "    unicode-bidi: embed;\n",
       "    white-space: pre-wrap;\n",
       "    word-wrap: break-word;\n",
       "    word-break: break-all;\n",
       "    font-family: \"Source Code Pro\", \"Menlo\", monospace;;\n",
       "    font-size: 13px;\n",
       "    color: #555;\n",
       "    margin-left: 4px;\n",
       "    line-height: 19px;\n",
       "  }\n",
       "</style>\n",
       "<div class=\"ansiout\"></div>"
      ]
     },
     "metadata": {
      "application/vnd.databricks.v1+output": {
       "addedWidgets": {},
       "arguments": {},
       "data": "<div class=\"ansiout\"></div>",
       "datasetInfos": [],
       "metadata": {},
       "removedWidgets": [],
       "type": "html"
      }
     },
     "output_type": "display_data"
    }
   ],
   "source": [
    "# df_exploded4 = df_exploded3.select(explode(\"anotherList\"))"
   ]
  },
  {
   "cell_type": "code",
   "execution_count": 0,
   "metadata": {
    "application/vnd.databricks.v1+cell": {
     "cellMetadata": {
      "byteLimit": 2048000,
      "rowLimit": 10000
     },
     "inputWidgets": {},
     "nuid": "182d8c8a-37b3-4356-8fa0-12f95d94f441",
     "showTitle": false,
     "title": ""
    }
   },
   "outputs": [
    {
     "output_type": "display_data",
     "data": {
      "text/html": [
       "<style scoped>\n",
       "  .ansiout {\n",
       "    display: block;\n",
       "    unicode-bidi: embed;\n",
       "    white-space: pre-wrap;\n",
       "    word-wrap: break-word;\n",
       "    word-break: break-all;\n",
       "    font-family: \"Source Code Pro\", \"Menlo\", monospace;;\n",
       "    font-size: 13px;\n",
       "    color: #555;\n",
       "    margin-left: 4px;\n",
       "    line-height: 19px;\n",
       "  }\n",
       "</style>\n",
       "<div class=\"ansiout\"></div>"
      ]
     },
     "metadata": {
      "application/vnd.databricks.v1+output": {
       "addedWidgets": {},
       "arguments": {},
       "data": "<div class=\"ansiout\"></div>",
       "datasetInfos": [],
       "metadata": {},
       "removedWidgets": [],
       "type": "html"
      }
     },
     "output_type": "display_data"
    }
   ],
   "source": [
    "# df_exploded4 = df_exploded4.select(col(\"col.*\"))"
   ]
  },
  {
   "cell_type": "code",
   "execution_count": 0,
   "metadata": {
    "application/vnd.databricks.v1+cell": {
     "cellMetadata": {
      "byteLimit": 2048000,
      "rowLimit": 10000
     },
     "inputWidgets": {},
     "nuid": "04021d24-0475-4d85-b923-f90dddc1b570",
     "showTitle": false,
     "title": ""
    }
   },
   "outputs": [
    {
     "output_type": "display_data",
     "data": {
      "text/html": [
       "<style scoped>\n",
       "  .ansiout {\n",
       "    display: block;\n",
       "    unicode-bidi: embed;\n",
       "    white-space: pre-wrap;\n",
       "    word-wrap: break-word;\n",
       "    word-break: break-all;\n",
       "    font-family: \"Source Code Pro\", \"Menlo\", monospace;;\n",
       "    font-size: 13px;\n",
       "    color: #555;\n",
       "    margin-left: 4px;\n",
       "    line-height: 19px;\n",
       "  }\n",
       "</style>\n",
       "<div class=\"ansiout\"></div>"
      ]
     },
     "metadata": {
      "application/vnd.databricks.v1+output": {
       "addedWidgets": {},
       "arguments": {},
       "data": "<div class=\"ansiout\"></div>",
       "datasetInfos": [],
       "metadata": {},
       "removedWidgets": [],
       "type": "html"
      }
     },
     "output_type": "display_data"
    }
   ],
   "source": [
    "# df_exploded4.display()"
   ]
  },
  {
   "cell_type": "code",
   "execution_count": 0,
   "metadata": {
    "application/vnd.databricks.v1+cell": {
     "cellMetadata": {},
     "inputWidgets": {},
     "nuid": "443dc668-54b9-4590-8e00-1cebcbc0fd59",
     "showTitle": false,
     "title": ""
    }
   },
   "outputs": [],
   "source": []
  }
 ],
 "metadata": {
  "application/vnd.databricks.v1+notebook": {
   "dashboards": [],
   "language": "python",
   "notebookMetadata": {
    "pythonIndentUnit": 2
   },
   "notebookName": "JSON NB",
   "widgets": {}
  }
 },
 "nbformat": 4,
 "nbformat_minor": 0
}
